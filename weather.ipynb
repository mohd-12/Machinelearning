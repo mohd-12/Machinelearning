{
 "cells": [
  {
   "cell_type": "code",
   "execution_count": 51,
   "metadata": {},
   "outputs": [],
   "source": [
    "import pandas as pd\n",
    "import numpy as np\n",
    "import matplotlib.pyplot as plt\n",
    "%matplotlib inline"
   ]
  },
  {
   "cell_type": "code",
   "execution_count": 7,
   "metadata": {},
   "outputs": [],
   "source": [
    "df = pd.read_csv('./weather data/weatherHistory.csv')"
   ]
  },
  {
   "cell_type": "code",
   "execution_count": 9,
   "metadata": {},
   "outputs": [
    {
     "data": {
      "text/html": [
       "<div>\n",
       "<style scoped>\n",
       "    .dataframe tbody tr th:only-of-type {\n",
       "        vertical-align: middle;\n",
       "    }\n",
       "\n",
       "    .dataframe tbody tr th {\n",
       "        vertical-align: top;\n",
       "    }\n",
       "\n",
       "    .dataframe thead th {\n",
       "        text-align: right;\n",
       "    }\n",
       "</style>\n",
       "<table border=\"1\" class=\"dataframe\">\n",
       "  <thead>\n",
       "    <tr style=\"text-align: right;\">\n",
       "      <th></th>\n",
       "      <th>Formatted Date</th>\n",
       "      <th>Summary</th>\n",
       "      <th>Precip Type</th>\n",
       "      <th>Temperature (C)</th>\n",
       "      <th>Apparent Temperature (C)</th>\n",
       "      <th>Humidity</th>\n",
       "      <th>Wind Speed (km/h)</th>\n",
       "      <th>Wind Bearing (degrees)</th>\n",
       "      <th>Visibility (km)</th>\n",
       "      <th>Pressure (millibars)</th>\n",
       "      <th>Daily Summary</th>\n",
       "    </tr>\n",
       "  </thead>\n",
       "  <tbody>\n",
       "    <tr>\n",
       "      <th>0</th>\n",
       "      <td>2006-04-01 00:00:00.000 +0200</td>\n",
       "      <td>Partly Cloudy</td>\n",
       "      <td>rain</td>\n",
       "      <td>9.472222</td>\n",
       "      <td>7.388889</td>\n",
       "      <td>0.89</td>\n",
       "      <td>14.1197</td>\n",
       "      <td>251</td>\n",
       "      <td>15.8263</td>\n",
       "      <td>1015.13</td>\n",
       "      <td>Partly cloudy throughout the day.</td>\n",
       "    </tr>\n",
       "    <tr>\n",
       "      <th>1</th>\n",
       "      <td>2006-04-01 01:00:00.000 +0200</td>\n",
       "      <td>Partly Cloudy</td>\n",
       "      <td>rain</td>\n",
       "      <td>9.355556</td>\n",
       "      <td>7.227778</td>\n",
       "      <td>0.86</td>\n",
       "      <td>14.2646</td>\n",
       "      <td>259</td>\n",
       "      <td>15.8263</td>\n",
       "      <td>1015.63</td>\n",
       "      <td>Partly cloudy throughout the day.</td>\n",
       "    </tr>\n",
       "    <tr>\n",
       "      <th>2</th>\n",
       "      <td>2006-04-01 02:00:00.000 +0200</td>\n",
       "      <td>Mostly Cloudy</td>\n",
       "      <td>rain</td>\n",
       "      <td>9.377778</td>\n",
       "      <td>9.377778</td>\n",
       "      <td>0.89</td>\n",
       "      <td>3.9284</td>\n",
       "      <td>204</td>\n",
       "      <td>14.9569</td>\n",
       "      <td>1015.94</td>\n",
       "      <td>Partly cloudy throughout the day.</td>\n",
       "    </tr>\n",
       "    <tr>\n",
       "      <th>3</th>\n",
       "      <td>2006-04-01 03:00:00.000 +0200</td>\n",
       "      <td>Partly Cloudy</td>\n",
       "      <td>rain</td>\n",
       "      <td>8.288889</td>\n",
       "      <td>5.944444</td>\n",
       "      <td>0.83</td>\n",
       "      <td>14.1036</td>\n",
       "      <td>269</td>\n",
       "      <td>15.8263</td>\n",
       "      <td>1016.41</td>\n",
       "      <td>Partly cloudy throughout the day.</td>\n",
       "    </tr>\n",
       "    <tr>\n",
       "      <th>4</th>\n",
       "      <td>2006-04-01 04:00:00.000 +0200</td>\n",
       "      <td>Mostly Cloudy</td>\n",
       "      <td>rain</td>\n",
       "      <td>8.755556</td>\n",
       "      <td>6.977778</td>\n",
       "      <td>0.83</td>\n",
       "      <td>11.0446</td>\n",
       "      <td>259</td>\n",
       "      <td>15.8263</td>\n",
       "      <td>1016.51</td>\n",
       "      <td>Partly cloudy throughout the day.</td>\n",
       "    </tr>\n",
       "  </tbody>\n",
       "</table>\n",
       "</div>"
      ],
      "text/plain": [
       "                  Formatted Date        Summary Precip Type  Temperature (C)  \\\n",
       "0  2006-04-01 00:00:00.000 +0200  Partly Cloudy        rain         9.472222   \n",
       "1  2006-04-01 01:00:00.000 +0200  Partly Cloudy        rain         9.355556   \n",
       "2  2006-04-01 02:00:00.000 +0200  Mostly Cloudy        rain         9.377778   \n",
       "3  2006-04-01 03:00:00.000 +0200  Partly Cloudy        rain         8.288889   \n",
       "4  2006-04-01 04:00:00.000 +0200  Mostly Cloudy        rain         8.755556   \n",
       "\n",
       "   Apparent Temperature (C)  Humidity  Wind Speed (km/h)  \\\n",
       "0                  7.388889      0.89            14.1197   \n",
       "1                  7.227778      0.86            14.2646   \n",
       "2                  9.377778      0.89             3.9284   \n",
       "3                  5.944444      0.83            14.1036   \n",
       "4                  6.977778      0.83            11.0446   \n",
       "\n",
       "   Wind Bearing (degrees)  Visibility (km)  Pressure (millibars)  \\\n",
       "0                     251          15.8263               1015.13   \n",
       "1                     259          15.8263               1015.63   \n",
       "2                     204          14.9569               1015.94   \n",
       "3                     269          15.8263               1016.41   \n",
       "4                     259          15.8263               1016.51   \n",
       "\n",
       "                       Daily Summary  \n",
       "0  Partly cloudy throughout the day.  \n",
       "1  Partly cloudy throughout the day.  \n",
       "2  Partly cloudy throughout the day.  \n",
       "3  Partly cloudy throughout the day.  \n",
       "4  Partly cloudy throughout the day.  "
      ]
     },
     "execution_count": 9,
     "metadata": {},
     "output_type": "execute_result"
    }
   ],
   "source": [
    "df.head()"
   ]
  },
  {
   "cell_type": "code",
   "execution_count": 29,
   "metadata": {},
   "outputs": [
    {
     "data": {
      "text/plain": [
       "(96453, 11)"
      ]
     },
     "execution_count": 29,
     "metadata": {},
     "output_type": "execute_result"
    }
   ],
   "source": [
    "df.shape"
   ]
  },
  {
   "cell_type": "code",
   "execution_count": 30,
   "metadata": {
    "scrolled": true
   },
   "outputs": [
    {
     "data": {
      "text/html": [
       "<div>\n",
       "<style scoped>\n",
       "    .dataframe tbody tr th:only-of-type {\n",
       "        vertical-align: middle;\n",
       "    }\n",
       "\n",
       "    .dataframe tbody tr th {\n",
       "        vertical-align: top;\n",
       "    }\n",
       "\n",
       "    .dataframe thead th {\n",
       "        text-align: right;\n",
       "    }\n",
       "</style>\n",
       "<table border=\"1\" class=\"dataframe\">\n",
       "  <thead>\n",
       "    <tr style=\"text-align: right;\">\n",
       "      <th></th>\n",
       "      <th>Temperature (C)</th>\n",
       "      <th>Apparent Temperature (C)</th>\n",
       "      <th>Humidity</th>\n",
       "      <th>Wind Speed (km/h)</th>\n",
       "      <th>Wind Bearing (degrees)</th>\n",
       "      <th>Visibility (km)</th>\n",
       "      <th>Pressure (millibars)</th>\n",
       "    </tr>\n",
       "  </thead>\n",
       "  <tbody>\n",
       "    <tr>\n",
       "      <th>count</th>\n",
       "      <td>96453.000000</td>\n",
       "      <td>96453.000000</td>\n",
       "      <td>96453.000000</td>\n",
       "      <td>96453.000000</td>\n",
       "      <td>96453.000000</td>\n",
       "      <td>96453.000000</td>\n",
       "      <td>96453.000000</td>\n",
       "    </tr>\n",
       "    <tr>\n",
       "      <th>mean</th>\n",
       "      <td>11.932678</td>\n",
       "      <td>10.855029</td>\n",
       "      <td>0.734899</td>\n",
       "      <td>10.810640</td>\n",
       "      <td>187.509232</td>\n",
       "      <td>10.347325</td>\n",
       "      <td>1003.235956</td>\n",
       "    </tr>\n",
       "    <tr>\n",
       "      <th>std</th>\n",
       "      <td>9.551546</td>\n",
       "      <td>10.696847</td>\n",
       "      <td>0.195473</td>\n",
       "      <td>6.913571</td>\n",
       "      <td>107.383428</td>\n",
       "      <td>4.192123</td>\n",
       "      <td>116.969906</td>\n",
       "    </tr>\n",
       "    <tr>\n",
       "      <th>min</th>\n",
       "      <td>-21.822222</td>\n",
       "      <td>-27.716667</td>\n",
       "      <td>0.000000</td>\n",
       "      <td>0.000000</td>\n",
       "      <td>0.000000</td>\n",
       "      <td>0.000000</td>\n",
       "      <td>0.000000</td>\n",
       "    </tr>\n",
       "    <tr>\n",
       "      <th>25%</th>\n",
       "      <td>4.688889</td>\n",
       "      <td>2.311111</td>\n",
       "      <td>0.600000</td>\n",
       "      <td>5.828200</td>\n",
       "      <td>116.000000</td>\n",
       "      <td>8.339800</td>\n",
       "      <td>1011.900000</td>\n",
       "    </tr>\n",
       "    <tr>\n",
       "      <th>50%</th>\n",
       "      <td>12.000000</td>\n",
       "      <td>12.000000</td>\n",
       "      <td>0.780000</td>\n",
       "      <td>9.965900</td>\n",
       "      <td>180.000000</td>\n",
       "      <td>10.046400</td>\n",
       "      <td>1016.450000</td>\n",
       "    </tr>\n",
       "    <tr>\n",
       "      <th>75%</th>\n",
       "      <td>18.838889</td>\n",
       "      <td>18.838889</td>\n",
       "      <td>0.890000</td>\n",
       "      <td>14.135800</td>\n",
       "      <td>290.000000</td>\n",
       "      <td>14.812000</td>\n",
       "      <td>1021.090000</td>\n",
       "    </tr>\n",
       "    <tr>\n",
       "      <th>max</th>\n",
       "      <td>39.905556</td>\n",
       "      <td>39.344444</td>\n",
       "      <td>1.000000</td>\n",
       "      <td>63.852600</td>\n",
       "      <td>359.000000</td>\n",
       "      <td>16.100000</td>\n",
       "      <td>1046.380000</td>\n",
       "    </tr>\n",
       "  </tbody>\n",
       "</table>\n",
       "</div>"
      ],
      "text/plain": [
       "       Temperature (C)  Apparent Temperature (C)      Humidity  \\\n",
       "count     96453.000000              96453.000000  96453.000000   \n",
       "mean         11.932678                 10.855029      0.734899   \n",
       "std           9.551546                 10.696847      0.195473   \n",
       "min         -21.822222                -27.716667      0.000000   \n",
       "25%           4.688889                  2.311111      0.600000   \n",
       "50%          12.000000                 12.000000      0.780000   \n",
       "75%          18.838889                 18.838889      0.890000   \n",
       "max          39.905556                 39.344444      1.000000   \n",
       "\n",
       "       Wind Speed (km/h)  Wind Bearing (degrees)  Visibility (km)  \\\n",
       "count       96453.000000            96453.000000     96453.000000   \n",
       "mean           10.810640              187.509232        10.347325   \n",
       "std             6.913571              107.383428         4.192123   \n",
       "min             0.000000                0.000000         0.000000   \n",
       "25%             5.828200              116.000000         8.339800   \n",
       "50%             9.965900              180.000000        10.046400   \n",
       "75%            14.135800              290.000000        14.812000   \n",
       "max            63.852600              359.000000        16.100000   \n",
       "\n",
       "       Pressure (millibars)  \n",
       "count          96453.000000  \n",
       "mean            1003.235956  \n",
       "std              116.969906  \n",
       "min                0.000000  \n",
       "25%             1011.900000  \n",
       "50%             1016.450000  \n",
       "75%             1021.090000  \n",
       "max             1046.380000  "
      ]
     },
     "execution_count": 30,
     "metadata": {},
     "output_type": "execute_result"
    }
   ],
   "source": [
    "df.describe()"
   ]
  },
  {
   "cell_type": "code",
   "execution_count": 31,
   "metadata": {},
   "outputs": [
    {
     "data": {
      "text/html": [
       "<div>\n",
       "<style scoped>\n",
       "    .dataframe tbody tr th:only-of-type {\n",
       "        vertical-align: middle;\n",
       "    }\n",
       "\n",
       "    .dataframe tbody tr th {\n",
       "        vertical-align: top;\n",
       "    }\n",
       "\n",
       "    .dataframe thead th {\n",
       "        text-align: right;\n",
       "    }\n",
       "</style>\n",
       "<table border=\"1\" class=\"dataframe\">\n",
       "  <thead>\n",
       "    <tr style=\"text-align: right;\">\n",
       "      <th></th>\n",
       "      <th>Formatted Date</th>\n",
       "      <th>Summary</th>\n",
       "      <th>Precip Type</th>\n",
       "      <th>Daily Summary</th>\n",
       "    </tr>\n",
       "  </thead>\n",
       "  <tbody>\n",
       "    <tr>\n",
       "      <th>count</th>\n",
       "      <td>96453</td>\n",
       "      <td>96453</td>\n",
       "      <td>96453</td>\n",
       "      <td>96453</td>\n",
       "    </tr>\n",
       "    <tr>\n",
       "      <th>unique</th>\n",
       "      <td>96429</td>\n",
       "      <td>27</td>\n",
       "      <td>2</td>\n",
       "      <td>214</td>\n",
       "    </tr>\n",
       "    <tr>\n",
       "      <th>top</th>\n",
       "      <td>2010-08-02 20:00:00.000 +0200</td>\n",
       "      <td>Partly Cloudy</td>\n",
       "      <td>rain</td>\n",
       "      <td>Mostly cloudy throughout the day.</td>\n",
       "    </tr>\n",
       "    <tr>\n",
       "      <th>freq</th>\n",
       "      <td>2</td>\n",
       "      <td>31733</td>\n",
       "      <td>85741</td>\n",
       "      <td>20085</td>\n",
       "    </tr>\n",
       "  </tbody>\n",
       "</table>\n",
       "</div>"
      ],
      "text/plain": [
       "                       Formatted Date        Summary Precip Type  \\\n",
       "count                           96453          96453       96453   \n",
       "unique                          96429             27           2   \n",
       "top     2010-08-02 20:00:00.000 +0200  Partly Cloudy        rain   \n",
       "freq                                2          31733       85741   \n",
       "\n",
       "                            Daily Summary  \n",
       "count                               96453  \n",
       "unique                                214  \n",
       "top     Mostly cloudy throughout the day.  \n",
       "freq                                20085  "
      ]
     },
     "execution_count": 31,
     "metadata": {},
     "output_type": "execute_result"
    }
   ],
   "source": [
    "df.describe(include=['object','bool'])"
   ]
  },
  {
   "cell_type": "code",
   "execution_count": 10,
   "metadata": {},
   "outputs": [
    {
     "data": {
      "text/plain": [
       "RangeIndex(start=0, stop=96453, step=1)"
      ]
     },
     "execution_count": 10,
     "metadata": {},
     "output_type": "execute_result"
    }
   ],
   "source": [
    "df.index"
   ]
  },
  {
   "cell_type": "code",
   "execution_count": 34,
   "metadata": {},
   "outputs": [
    {
     "data": {
      "text/plain": [
       "Formatted Date               object\n",
       "Summary                      object\n",
       "Precip Type                  object\n",
       "Temperature (C)             float64\n",
       "Apparent Temperature (C)    float64\n",
       "Humidity                    float64\n",
       "Wind Speed (km/h)           float64\n",
       "Wind Bearing (degrees)        int64\n",
       "Visibility (km)             float64\n",
       "Pressure (millibars)        float64\n",
       "Daily Summary                object\n",
       "dtype: object"
      ]
     },
     "execution_count": 34,
     "metadata": {},
     "output_type": "execute_result"
    }
   ],
   "source": [
    "df.dtypes"
   ]
  },
  {
   "cell_type": "code",
   "execution_count": 12,
   "metadata": {},
   "outputs": [
    {
     "data": {
      "text/plain": [
       "Formatted Date                0\n",
       "Summary                       0\n",
       "Precip Type                 517\n",
       "Temperature (C)               0\n",
       "Apparent Temperature (C)      0\n",
       "Humidity                      0\n",
       "Wind Speed (km/h)             0\n",
       "Wind Bearing (degrees)        0\n",
       "Visibility (km)               0\n",
       "Pressure (millibars)          0\n",
       "Daily Summary                 0\n",
       "dtype: int64"
      ]
     },
     "execution_count": 12,
     "metadata": {},
     "output_type": "execute_result"
    }
   ],
   "source": [
    "df.isnull().sum()"
   ]
  },
  {
   "cell_type": "code",
   "execution_count": 13,
   "metadata": {},
   "outputs": [
    {
     "data": {
      "text/plain": [
       "0        rain\n",
       "1        rain\n",
       "2        rain\n",
       "3        rain\n",
       "4        rain\n",
       "         ... \n",
       "96448    rain\n",
       "96449    rain\n",
       "96450    rain\n",
       "96451    rain\n",
       "96452    rain\n",
       "Name: Precip Type, Length: 96453, dtype: object"
      ]
     },
     "execution_count": 13,
     "metadata": {},
     "output_type": "execute_result"
    }
   ],
   "source": [
    "df['Precip Type']"
   ]
  },
  {
   "cell_type": "code",
   "execution_count": 15,
   "metadata": {},
   "outputs": [],
   "source": [
    "df['Precip Type'].fillna('rain', inplace = True)"
   ]
  },
  {
   "cell_type": "code",
   "execution_count": 16,
   "metadata": {},
   "outputs": [
    {
     "data": {
      "text/plain": [
       "Formatted Date              0\n",
       "Summary                     0\n",
       "Precip Type                 0\n",
       "Temperature (C)             0\n",
       "Apparent Temperature (C)    0\n",
       "Humidity                    0\n",
       "Wind Speed (km/h)           0\n",
       "Wind Bearing (degrees)      0\n",
       "Visibility (km)             0\n",
       "Pressure (millibars)        0\n",
       "Daily Summary               0\n",
       "dtype: int64"
      ]
     },
     "execution_count": 16,
     "metadata": {},
     "output_type": "execute_result"
    }
   ],
   "source": [
    "df.isnull().sum()"
   ]
  },
  {
   "cell_type": "code",
   "execution_count": 17,
   "metadata": {},
   "outputs": [
    {
     "name": "stdout",
     "output_type": "stream",
     "text": [
      "<class 'pandas.core.frame.DataFrame'>\n",
      "RangeIndex: 96453 entries, 0 to 96452\n",
      "Data columns (total 11 columns):\n",
      "Formatted Date              96453 non-null object\n",
      "Summary                     96453 non-null object\n",
      "Precip Type                 96453 non-null object\n",
      "Temperature (C)             96453 non-null float64\n",
      "Apparent Temperature (C)    96453 non-null float64\n",
      "Humidity                    96453 non-null float64\n",
      "Wind Speed (km/h)           96453 non-null float64\n",
      "Wind Bearing (degrees)      96453 non-null int64\n",
      "Visibility (km)             96453 non-null float64\n",
      "Pressure (millibars)        96453 non-null float64\n",
      "Daily Summary               96453 non-null object\n",
      "dtypes: float64(6), int64(1), object(4)\n",
      "memory usage: 8.1+ MB\n"
     ]
    }
   ],
   "source": [
    " df.info()"
   ]
  },
  {
   "cell_type": "code",
   "execution_count": 26,
   "metadata": {},
   "outputs": [
    {
     "data": {
      "text/plain": [
       "array(['rain', 'snow'], dtype=object)"
      ]
     },
     "execution_count": 26,
     "metadata": {},
     "output_type": "execute_result"
    }
   ],
   "source": [
    "df['Precip Type'].unique()"
   ]
  },
  {
   "cell_type": "code",
   "execution_count": 27,
   "metadata": {},
   "outputs": [
    {
     "data": {
      "text/plain": [
       "array(['Partly cloudy throughout the day.',\n",
       "       'Mostly cloudy throughout the day.', 'Foggy in the evening.',\n",
       "       'Foggy overnight and breezy in the morning.',\n",
       "       'Overcast throughout the day.', 'Partly cloudy until night.',\n",
       "       'Mostly cloudy until night.',\n",
       "       'Foggy starting overnight continuing until morning.',\n",
       "       'Foggy in the morning.', 'Partly cloudy until evening.',\n",
       "       'Partly cloudy starting in the morning.',\n",
       "       'Mostly cloudy starting overnight continuing until night.',\n",
       "       'Mostly cloudy until evening.',\n",
       "       'Partly cloudy starting in the morning continuing until evening.',\n",
       "       'Partly cloudy starting in the afternoon.',\n",
       "       'Partly cloudy starting overnight.',\n",
       "       'Partly cloudy until morning.',\n",
       "       'Partly cloudy starting overnight continuing until night.',\n",
       "       'Partly cloudy starting in the afternoon continuing until night.',\n",
       "       'Mostly cloudy starting overnight.',\n",
       "       'Partly cloudy until afternoon.',\n",
       "       'Mostly cloudy until night and breezy in the afternoon.',\n",
       "       'Foggy starting in the evening.', 'Foggy throughout the day.',\n",
       "       'Foggy starting in the evening continuing until night.',\n",
       "       'Mostly cloudy until morning.',\n",
       "       'Foggy starting in the morning continuing until evening.',\n",
       "       'Foggy starting overnight continuing until afternoon.',\n",
       "       'Partly cloudy starting in the morning continuing until afternoon.',\n",
       "       'Foggy starting overnight.', 'Foggy until morning.',\n",
       "       'Foggy starting overnight continuing until evening.',\n",
       "       'Foggy starting in the afternoon.',\n",
       "       'Partly cloudy starting overnight continuing until afternoon.',\n",
       "       'Partly cloudy starting in the morning continuing until night.',\n",
       "       'Overcast until night.',\n",
       "       'Mostly cloudy starting overnight continuing until evening.',\n",
       "       'Foggy overnight.', 'Partly cloudy in the morning.',\n",
       "       'Mostly cloudy starting in the morning.',\n",
       "       'Foggy starting in the afternoon continuing until evening.',\n",
       "       'Mostly cloudy until afternoon.',\n",
       "       'Foggy starting overnight continuing until night.',\n",
       "       'Mostly cloudy throughout the day and breezy in the evening.',\n",
       "       'Foggy starting in the morning continuing until afternoon.',\n",
       "       'Partly cloudy in the afternoon.', 'Clear throughout the day.',\n",
       "       'Partly cloudy starting in the afternoon continuing until evening.',\n",
       "       'Partly cloudy overnight.', 'Overcast until evening.',\n",
       "       'Foggy in the morning and breezy starting in the afternoon continuing until night.',\n",
       "       'Breezy starting overnight continuing until afternoon and foggy starting in the morning continuing until evening.',\n",
       "       'Partly cloudy starting overnight continuing until morning.',\n",
       "       'Mostly cloudy throughout the day and breezy in the afternoon.',\n",
       "       'Mostly cloudy starting overnight and breezy in the afternoon.',\n",
       "       'Partly cloudy throughout the day and breezy starting in the morning continuing until night.',\n",
       "       'Mostly cloudy throughout the day and breezy in the morning.',\n",
       "       'Partly cloudy starting in the evening continuing until night.',\n",
       "       'Mostly cloudy until night and breezy starting in the morning continuing until afternoon.',\n",
       "       'Partly cloudy starting in the morning continuing until evening and breezy starting in the morning continuing until afternoon.',\n",
       "       'Partly cloudy throughout the day and breezy starting in the morning continuing until afternoon.',\n",
       "       'Partly cloudy throughout the day and breezy starting in the morning continuing until evening.',\n",
       "       'Foggy until afternoon.',\n",
       "       'Overcast until night and breezy overnight.',\n",
       "       'Breezy until morning and mostly cloudy throughout the day.',\n",
       "       'Mostly cloudy starting in the morning continuing until night.',\n",
       "       'Breezy starting overnight continuing until morning and partly cloudy starting overnight continuing until evening.',\n",
       "       'Partly cloudy in the evening.',\n",
       "       'Mostly cloudy starting overnight continuing until afternoon.',\n",
       "       'Mostly cloudy starting in the morning continuing until afternoon.',\n",
       "       'Mostly cloudy starting in the afternoon.',\n",
       "       'Mostly cloudy starting in the morning continuing until evening.',\n",
       "       'Partly cloudy starting overnight continuing until afternoon and breezy in the afternoon.',\n",
       "       'Partly cloudy starting overnight and breezy in the afternoon.',\n",
       "       'Mostly cloudy starting in the morning and breezy in the evening.',\n",
       "       'Foggy starting in the afternoon continuing until night.',\n",
       "       'Foggy until night.',\n",
       "       'Foggy starting in the morning continuing until night.',\n",
       "       'Foggy until evening.', 'Foggy starting in the morning.',\n",
       "       'Partly cloudy starting overnight continuing until evening.',\n",
       "       'Partly cloudy starting overnight continuing until evening and breezy starting in the morning continuing until evening.',\n",
       "       'Breezy starting overnight continuing until morning and foggy in the evening.',\n",
       "       'Mostly cloudy throughout the day and breezy starting in the morning continuing until evening.',\n",
       "       'Partly cloudy until evening and breezy starting in the morning continuing until afternoon.',\n",
       "       'Mostly cloudy starting in the afternoon continuing until night.',\n",
       "       'Breezy starting overnight continuing until afternoon and mostly cloudy starting overnight continuing until evening.',\n",
       "       'Mostly cloudy throughout the day and windy starting in the morning continuing until evening.',\n",
       "       'Breezy and partly cloudy in the afternoon.',\n",
       "       'Mostly cloudy starting overnight and breezy starting in the morning continuing until afternoon.',\n",
       "       'Partly cloudy until night and breezy starting in the morning continuing until afternoon.',\n",
       "       'Breezy and mostly cloudy overnight.',\n",
       "       'Mostly cloudy throughout the day and breezy overnight.',\n",
       "       'Mostly cloudy throughout the day and breezy starting in the morning continuing until afternoon.',\n",
       "       'Partly cloudy throughout the day and breezy in the morning.',\n",
       "       'Partly cloudy starting in the morning continuing until evening and breezy starting in the afternoon continuing until evening.',\n",
       "       'Partly cloudy throughout the day and breezy starting in the afternoon continuing until evening.',\n",
       "       'Mostly cloudy starting overnight and breezy in the morning.',\n",
       "       'Partly cloudy starting in the afternoon and breezy in the afternoon.',\n",
       "       'Partly cloudy starting in the morning and breezy in the evening.',\n",
       "       'Partly cloudy until evening and breezy in the morning.',\n",
       "       'Partly cloudy starting overnight continuing until evening and breezy starting in the morning continuing until afternoon.',\n",
       "       'Partly cloudy starting overnight continuing until evening and breezy in the evening.',\n",
       "       'Mostly cloudy throughout the day and breezy starting in the evening.',\n",
       "       'Mostly cloudy throughout the day and windy starting in the morning continuing until night.',\n",
       "       'Breezy starting overnight continuing until morning and partly cloudy starting in the morning.',\n",
       "       'Mostly cloudy starting in the morning and breezy overnight.',\n",
       "       'Overcast throughout the day and breezy starting overnight continuing until morning.',\n",
       "       'Partly cloudy throughout the day and breezy in the evening.',\n",
       "       'Mostly cloudy until evening and breezy starting in the morning continuing until afternoon.',\n",
       "       'Mostly cloudy until night and breezy in the evening.',\n",
       "       'Partly cloudy starting in the evening.',\n",
       "       'Overcast starting in the morning.',\n",
       "       'Mostly cloudy starting overnight continuing until evening and breezy starting overnight continuing until morning.',\n",
       "       'Partly cloudy starting overnight continuing until morning and breezy starting in the morning continuing until afternoon.',\n",
       "       'Partly cloudy until evening and breezy starting in the morning continuing until evening.',\n",
       "       'Breezy starting in the morning continuing until afternoon and partly cloudy starting in the morning.',\n",
       "       'Partly cloudy starting in the morning and breezy starting in the afternoon continuing until evening.',\n",
       "       'Mostly cloudy starting overnight continuing until morning.',\n",
       "       'Mostly cloudy throughout the day and breezy starting overnight continuing until afternoon.',\n",
       "       'Breezy starting overnight continuing until morning and foggy overnight.',\n",
       "       'Mostly cloudy throughout the day and breezy starting overnight continuing until morning.',\n",
       "       'Overcast throughout the day and breezy in the morning.',\n",
       "       'Overcast throughout the day and breezy in the evening.',\n",
       "       'Mostly cloudy starting in the morning continuing until night and breezy in the afternoon.',\n",
       "       'Mostly cloudy until night and breezy starting in the evening continuing until night.',\n",
       "       'Partly cloudy until night and breezy in the morning.',\n",
       "       'Partly cloudy until evening and breezy overnight.',\n",
       "       'Partly cloudy starting overnight continuing until night and windy starting in the morning continuing until afternoon.',\n",
       "       'Breezy starting in the morning continuing until afternoon and mostly cloudy starting in the morning.',\n",
       "       'Foggy starting overnight continuing until morning and breezy starting in the evening.',\n",
       "       'Mostly cloudy until night and breezy starting in the afternoon.',\n",
       "       'Foggy in the afternoon.',\n",
       "       'Mostly cloudy until night and breezy starting in the afternoon continuing until night.',\n",
       "       'Foggy starting overnight continuing until morning and breezy starting in the evening continuing until night.',\n",
       "       'Breezy until afternoon and mostly cloudy throughout the day.',\n",
       "       'Mostly cloudy throughout the day and breezy starting in the morning continuing until night.',\n",
       "       'Partly cloudy starting overnight continuing until evening and breezy in the morning.',\n",
       "       'Mostly cloudy starting in the morning and breezy in the afternoon.',\n",
       "       'Mostly cloudy starting overnight continuing until night and breezy starting in the morning continuing until evening.',\n",
       "       'Foggy starting overnight continuing until morning and breezy starting in the morning continuing until afternoon.',\n",
       "       'Mostly cloudy until evening and windy starting in the morning continuing until afternoon.',\n",
       "       'Foggy starting overnight continuing until afternoon and breezy in the morning.',\n",
       "       'Foggy starting in the morning continuing until afternoon and breezy starting in the evening.',\n",
       "       'Partly cloudy starting overnight and breezy starting in the morning continuing until afternoon.',\n",
       "       'Foggy starting overnight continuing until morning and breezy in the afternoon.',\n",
       "       'Mostly cloudy starting overnight and breezy starting in the afternoon continuing until evening.',\n",
       "       'Overcast throughout the day and breezy starting overnight continuing until afternoon.',\n",
       "       'Partly cloudy starting in the morning continuing until evening and breezy in the afternoon.',\n",
       "       'Partly cloudy starting in the morning continuing until night and breezy starting in the afternoon continuing until evening.',\n",
       "       'Mostly cloudy until night and breezy starting in the evening.',\n",
       "       'Breezy in the morning and mostly cloudy starting in the morning.',\n",
       "       'Mostly cloudy until night and breezy starting in the morning continuing until evening.',\n",
       "       'Partly cloudy starting overnight continuing until evening and windy starting in the morning continuing until evening.',\n",
       "       'Breezy in the morning and partly cloudy starting in the evening continuing until night.',\n",
       "       'Partly cloudy overnight and breezy starting in the morning continuing until afternoon.',\n",
       "       'Light rain in the morning.', 'Light rain until morning.',\n",
       "       'Light rain in the morning and afternoon.',\n",
       "       'Partly cloudy starting in the morning continuing until night and breezy starting in the morning continuing until afternoon.',\n",
       "       'Breezy starting in the afternoon continuing until night and mostly cloudy starting in the evening.',\n",
       "       'Mostly cloudy throughout the day and breezy starting in the evening continuing until night.',\n",
       "       'Foggy starting in the afternoon and breezy starting in the afternoon continuing until evening.',\n",
       "       'Breezy and foggy until morning.',\n",
       "       'Mostly cloudy until night and breezy starting overnight continuing until morning.',\n",
       "       'Partly cloudy starting overnight continuing until night and breezy in the morning.',\n",
       "       'Partly cloudy starting overnight continuing until night and breezy in the afternoon.',\n",
       "       'Mostly cloudy starting in the morning and breezy starting in the afternoon continuing until evening.',\n",
       "       'Partly cloudy starting overnight and breezy starting in the evening.',\n",
       "       'Breezy overnight and overcast throughout the day.',\n",
       "       'Partly cloudy until night and breezy in the afternoon.',\n",
       "       'Mostly cloudy starting overnight and breezy starting in the evening.',\n",
       "       'Breezy overnight and partly cloudy until evening.',\n",
       "       'Mostly cloudy starting in the evening.',\n",
       "       'Mostly cloudy throughout the day and breezy starting in the afternoon.',\n",
       "       'Mostly cloudy throughout the day and breezy starting in the afternoon continuing until evening.',\n",
       "       'Mostly cloudy until night and windy starting in the morning continuing until afternoon.',\n",
       "       'Breezy and foggy starting in the evening.',\n",
       "       'Breezy overnight and partly cloudy throughout the day.',\n",
       "       'Overcast throughout the day and breezy starting in the evening.',\n",
       "       'Breezy until evening and foggy in the morning.',\n",
       "       'Breezy overnight and mostly cloudy throughout the day.',\n",
       "       'Partly cloudy until evening and breezy in the afternoon.',\n",
       "       'Partly cloudy starting in the morning and breezy starting in the morning continuing until afternoon.',\n",
       "       'Mostly cloudy until evening and breezy in the evening.',\n",
       "       'Windy in the afternoon.', 'Overcast until morning.',\n",
       "       'Mostly cloudy overnight.',\n",
       "       'Foggy starting in the morning continuing until evening and breezy in the evening.',\n",
       "       'Breezy starting overnight continuing until morning.',\n",
       "       'Breezy starting in the afternoon continuing until evening and foggy starting in the evening.',\n",
       "       'Mostly cloudy until night and breezy overnight.',\n",
       "       'Mostly cloudy starting in the morning and windy in the evening.',\n",
       "       'Partly cloudy throughout the day and windy starting in the morning continuing until afternoon.',\n",
       "       'Breezy until afternoon and overcast throughout the day.',\n",
       "       'Breezy in the morning and foggy in the evening.',\n",
       "       'Breezy starting in the afternoon continuing until evening and foggy in the evening.',\n",
       "       'Breezy starting in the morning continuing until night.',\n",
       "       'Breezy in the morning and mostly cloudy starting in the evening.',\n",
       "       'Mostly cloudy until evening and breezy in the afternoon.',\n",
       "       'Mostly cloudy until night and breezy starting in the afternoon continuing until evening.',\n",
       "       'Mostly cloudy until evening and breezy starting overnight continuing until morning.',\n",
       "       'Overcast throughout the day and breezy in the afternoon.',\n",
       "       'Overcast throughout the day and breezy starting in the morning continuing until evening.',\n",
       "       'Overcast throughout the day and breezy overnight.',\n",
       "       'Overcast starting in the afternoon.',\n",
       "       'Partly cloudy throughout the day and breezy in the afternoon.',\n",
       "       'Light rain starting overnight.',\n",
       "       'Drizzle starting in the evening.', 'Drizzle until morning.',\n",
       "       'Rain throughout the day.', 'Rain until morning.',\n",
       "       'Light rain overnight.', 'Rain until afternoon.'], dtype=object)"
      ]
     },
     "execution_count": 27,
     "metadata": {},
     "output_type": "execute_result"
    }
   ],
   "source": [
    "df['Daily Summary'].unique()"
   ]
  },
  {
   "cell_type": "code",
   "execution_count": 37,
   "metadata": {},
   "outputs": [
    {
     "data": {
      "text/plain": [
       "0       2006-03-31 22:00:00+00:00\n",
       "1       2006-03-31 23:00:00+00:00\n",
       "2       2006-04-01 00:00:00+00:00\n",
       "3       2006-04-01 01:00:00+00:00\n",
       "4       2006-04-01 02:00:00+00:00\n",
       "                   ...           \n",
       "96448   2016-09-09 17:00:00+00:00\n",
       "96449   2016-09-09 18:00:00+00:00\n",
       "96450   2016-09-09 19:00:00+00:00\n",
       "96451   2016-09-09 20:00:00+00:00\n",
       "96452   2016-09-09 21:00:00+00:00\n",
       "Name: Formatted Date, Length: 96453, dtype: datetime64[ns, UTC]"
      ]
     },
     "execution_count": 37,
     "metadata": {},
     "output_type": "execute_result"
    }
   ],
   "source": [
    "df['Formatted Date'] = pd.to_datetime(df['Formatted Date'],utc = True)\n",
    "df['Formatted Date']"
   ]
  },
  {
   "cell_type": "code",
   "execution_count": 38,
   "metadata": {},
   "outputs": [
    {
     "data": {
      "text/plain": [
       "Formatted Date              datetime64[ns, UTC]\n",
       "Summary                                  object\n",
       "Precip Type                              object\n",
       "Temperature (C)                         float64\n",
       "Apparent Temperature (C)                float64\n",
       "Humidity                                float64\n",
       "Wind Speed (km/h)                       float64\n",
       "Wind Bearing (degrees)                    int64\n",
       "Visibility (km)                         float64\n",
       "Pressure (millibars)                    float64\n",
       "Daily Summary                            object\n",
       "dtype: object"
      ]
     },
     "execution_count": 38,
     "metadata": {},
     "output_type": "execute_result"
    }
   ],
   "source": [
    "df.dtypes"
   ]
  },
  {
   "cell_type": "code",
   "execution_count": 39,
   "metadata": {},
   "outputs": [],
   "source": [
    "df = df.set_index('Formatted Date')"
   ]
  },
  {
   "cell_type": "code",
   "execution_count": 40,
   "metadata": {},
   "outputs": [
    {
     "data": {
      "text/html": [
       "<div>\n",
       "<style scoped>\n",
       "    .dataframe tbody tr th:only-of-type {\n",
       "        vertical-align: middle;\n",
       "    }\n",
       "\n",
       "    .dataframe tbody tr th {\n",
       "        vertical-align: top;\n",
       "    }\n",
       "\n",
       "    .dataframe thead th {\n",
       "        text-align: right;\n",
       "    }\n",
       "</style>\n",
       "<table border=\"1\" class=\"dataframe\">\n",
       "  <thead>\n",
       "    <tr style=\"text-align: right;\">\n",
       "      <th></th>\n",
       "      <th>Summary</th>\n",
       "      <th>Precip Type</th>\n",
       "      <th>Temperature (C)</th>\n",
       "      <th>Apparent Temperature (C)</th>\n",
       "      <th>Humidity</th>\n",
       "      <th>Wind Speed (km/h)</th>\n",
       "      <th>Wind Bearing (degrees)</th>\n",
       "      <th>Visibility (km)</th>\n",
       "      <th>Pressure (millibars)</th>\n",
       "      <th>Daily Summary</th>\n",
       "    </tr>\n",
       "    <tr>\n",
       "      <th>Formatted Date</th>\n",
       "      <th></th>\n",
       "      <th></th>\n",
       "      <th></th>\n",
       "      <th></th>\n",
       "      <th></th>\n",
       "      <th></th>\n",
       "      <th></th>\n",
       "      <th></th>\n",
       "      <th></th>\n",
       "      <th></th>\n",
       "    </tr>\n",
       "  </thead>\n",
       "  <tbody>\n",
       "    <tr>\n",
       "      <th>2006-03-31 22:00:00+00:00</th>\n",
       "      <td>Partly Cloudy</td>\n",
       "      <td>rain</td>\n",
       "      <td>9.472222</td>\n",
       "      <td>7.388889</td>\n",
       "      <td>0.89</td>\n",
       "      <td>14.1197</td>\n",
       "      <td>251</td>\n",
       "      <td>15.8263</td>\n",
       "      <td>1015.13</td>\n",
       "      <td>Partly cloudy throughout the day.</td>\n",
       "    </tr>\n",
       "    <tr>\n",
       "      <th>2006-03-31 23:00:00+00:00</th>\n",
       "      <td>Partly Cloudy</td>\n",
       "      <td>rain</td>\n",
       "      <td>9.355556</td>\n",
       "      <td>7.227778</td>\n",
       "      <td>0.86</td>\n",
       "      <td>14.2646</td>\n",
       "      <td>259</td>\n",
       "      <td>15.8263</td>\n",
       "      <td>1015.63</td>\n",
       "      <td>Partly cloudy throughout the day.</td>\n",
       "    </tr>\n",
       "    <tr>\n",
       "      <th>2006-04-01 00:00:00+00:00</th>\n",
       "      <td>Mostly Cloudy</td>\n",
       "      <td>rain</td>\n",
       "      <td>9.377778</td>\n",
       "      <td>9.377778</td>\n",
       "      <td>0.89</td>\n",
       "      <td>3.9284</td>\n",
       "      <td>204</td>\n",
       "      <td>14.9569</td>\n",
       "      <td>1015.94</td>\n",
       "      <td>Partly cloudy throughout the day.</td>\n",
       "    </tr>\n",
       "    <tr>\n",
       "      <th>2006-04-01 01:00:00+00:00</th>\n",
       "      <td>Partly Cloudy</td>\n",
       "      <td>rain</td>\n",
       "      <td>8.288889</td>\n",
       "      <td>5.944444</td>\n",
       "      <td>0.83</td>\n",
       "      <td>14.1036</td>\n",
       "      <td>269</td>\n",
       "      <td>15.8263</td>\n",
       "      <td>1016.41</td>\n",
       "      <td>Partly cloudy throughout the day.</td>\n",
       "    </tr>\n",
       "    <tr>\n",
       "      <th>2006-04-01 02:00:00+00:00</th>\n",
       "      <td>Mostly Cloudy</td>\n",
       "      <td>rain</td>\n",
       "      <td>8.755556</td>\n",
       "      <td>6.977778</td>\n",
       "      <td>0.83</td>\n",
       "      <td>11.0446</td>\n",
       "      <td>259</td>\n",
       "      <td>15.8263</td>\n",
       "      <td>1016.51</td>\n",
       "      <td>Partly cloudy throughout the day.</td>\n",
       "    </tr>\n",
       "  </tbody>\n",
       "</table>\n",
       "</div>"
      ],
      "text/plain": [
       "                                 Summary Precip Type  Temperature (C)  \\\n",
       "Formatted Date                                                          \n",
       "2006-03-31 22:00:00+00:00  Partly Cloudy        rain         9.472222   \n",
       "2006-03-31 23:00:00+00:00  Partly Cloudy        rain         9.355556   \n",
       "2006-04-01 00:00:00+00:00  Mostly Cloudy        rain         9.377778   \n",
       "2006-04-01 01:00:00+00:00  Partly Cloudy        rain         8.288889   \n",
       "2006-04-01 02:00:00+00:00  Mostly Cloudy        rain         8.755556   \n",
       "\n",
       "                           Apparent Temperature (C)  Humidity  \\\n",
       "Formatted Date                                                  \n",
       "2006-03-31 22:00:00+00:00                  7.388889      0.89   \n",
       "2006-03-31 23:00:00+00:00                  7.227778      0.86   \n",
       "2006-04-01 00:00:00+00:00                  9.377778      0.89   \n",
       "2006-04-01 01:00:00+00:00                  5.944444      0.83   \n",
       "2006-04-01 02:00:00+00:00                  6.977778      0.83   \n",
       "\n",
       "                           Wind Speed (km/h)  Wind Bearing (degrees)  \\\n",
       "Formatted Date                                                         \n",
       "2006-03-31 22:00:00+00:00            14.1197                     251   \n",
       "2006-03-31 23:00:00+00:00            14.2646                     259   \n",
       "2006-04-01 00:00:00+00:00             3.9284                     204   \n",
       "2006-04-01 01:00:00+00:00            14.1036                     269   \n",
       "2006-04-01 02:00:00+00:00            11.0446                     259   \n",
       "\n",
       "                           Visibility (km)  Pressure (millibars)  \\\n",
       "Formatted Date                                                     \n",
       "2006-03-31 22:00:00+00:00          15.8263               1015.13   \n",
       "2006-03-31 23:00:00+00:00          15.8263               1015.63   \n",
       "2006-04-01 00:00:00+00:00          14.9569               1015.94   \n",
       "2006-04-01 01:00:00+00:00          15.8263               1016.41   \n",
       "2006-04-01 02:00:00+00:00          15.8263               1016.51   \n",
       "\n",
       "                                               Daily Summary  \n",
       "Formatted Date                                                \n",
       "2006-03-31 22:00:00+00:00  Partly cloudy throughout the day.  \n",
       "2006-03-31 23:00:00+00:00  Partly cloudy throughout the day.  \n",
       "2006-04-01 00:00:00+00:00  Partly cloudy throughout the day.  \n",
       "2006-04-01 01:00:00+00:00  Partly cloudy throughout the day.  \n",
       "2006-04-01 02:00:00+00:00  Partly cloudy throughout the day.  "
      ]
     },
     "execution_count": 40,
     "metadata": {},
     "output_type": "execute_result"
    }
   ],
   "source": [
    "df.head()"
   ]
  },
  {
   "cell_type": "code",
   "execution_count": 53,
   "metadata": {},
   "outputs": [
    {
     "data": {
      "text/html": [
       "<div>\n",
       "<style scoped>\n",
       "    .dataframe tbody tr th:only-of-type {\n",
       "        vertical-align: middle;\n",
       "    }\n",
       "\n",
       "    .dataframe tbody tr th {\n",
       "        vertical-align: top;\n",
       "    }\n",
       "\n",
       "    .dataframe thead th {\n",
       "        text-align: right;\n",
       "    }\n",
       "</style>\n",
       "<table border=\"1\" class=\"dataframe\">\n",
       "  <thead>\n",
       "    <tr style=\"text-align: right;\">\n",
       "      <th></th>\n",
       "      <th>Apparent Temperature (C)</th>\n",
       "      <th>Humidity</th>\n",
       "    </tr>\n",
       "    <tr>\n",
       "      <th>Formatted Date</th>\n",
       "      <th></th>\n",
       "      <th></th>\n",
       "    </tr>\n",
       "  </thead>\n",
       "  <tbody>\n",
       "    <tr>\n",
       "      <th>2006-03-31 22:00:00+00:00</th>\n",
       "      <td>7.388889</td>\n",
       "      <td>0.89</td>\n",
       "    </tr>\n",
       "    <tr>\n",
       "      <th>2006-03-31 23:00:00+00:00</th>\n",
       "      <td>7.227778</td>\n",
       "      <td>0.86</td>\n",
       "    </tr>\n",
       "    <tr>\n",
       "      <th>2006-04-01 00:00:00+00:00</th>\n",
       "      <td>9.377778</td>\n",
       "      <td>0.89</td>\n",
       "    </tr>\n",
       "    <tr>\n",
       "      <th>2006-04-01 01:00:00+00:00</th>\n",
       "      <td>5.944444</td>\n",
       "      <td>0.83</td>\n",
       "    </tr>\n",
       "    <tr>\n",
       "      <th>2006-04-01 02:00:00+00:00</th>\n",
       "      <td>6.977778</td>\n",
       "      <td>0.83</td>\n",
       "    </tr>\n",
       "  </tbody>\n",
       "</table>\n",
       "</div>"
      ],
      "text/plain": [
       "                           Apparent Temperature (C)  Humidity\n",
       "Formatted Date                                               \n",
       "2006-03-31 22:00:00+00:00                  7.388889      0.89\n",
       "2006-03-31 23:00:00+00:00                  7.227778      0.86\n",
       "2006-04-01 00:00:00+00:00                  9.377778      0.89\n",
       "2006-04-01 01:00:00+00:00                  5.944444      0.83\n",
       "2006-04-01 02:00:00+00:00                  6.977778      0.83"
      ]
     },
     "execution_count": 53,
     "metadata": {},
     "output_type": "execute_result"
    }
   ],
   "source": [
    "data_columns = ['Apparent Temperature (C)','Humidity']\n",
    "df[data_columns].head()\n"
   ]
  },
  {
   "cell_type": "code",
   "execution_count": 54,
   "metadata": {},
   "outputs": [
    {
     "data": {
      "text/html": [
       "<div>\n",
       "<style scoped>\n",
       "    .dataframe tbody tr th:only-of-type {\n",
       "        vertical-align: middle;\n",
       "    }\n",
       "\n",
       "    .dataframe tbody tr th {\n",
       "        vertical-align: top;\n",
       "    }\n",
       "\n",
       "    .dataframe thead th {\n",
       "        text-align: right;\n",
       "    }\n",
       "</style>\n",
       "<table border=\"1\" class=\"dataframe\">\n",
       "  <thead>\n",
       "    <tr style=\"text-align: right;\">\n",
       "      <th></th>\n",
       "      <th>Apparent Temperature (C)</th>\n",
       "      <th>Humidity</th>\n",
       "    </tr>\n",
       "    <tr>\n",
       "      <th>Formatted Date</th>\n",
       "      <th></th>\n",
       "      <th></th>\n",
       "    </tr>\n",
       "  </thead>\n",
       "  <tbody>\n",
       "    <tr>\n",
       "      <th>2005-12-01 00:00:00+00:00</th>\n",
       "      <td>-4.050000</td>\n",
       "      <td>0.890000</td>\n",
       "    </tr>\n",
       "    <tr>\n",
       "      <th>2006-01-01 00:00:00+00:00</th>\n",
       "      <td>-4.173708</td>\n",
       "      <td>0.834610</td>\n",
       "    </tr>\n",
       "    <tr>\n",
       "      <th>2006-02-01 00:00:00+00:00</th>\n",
       "      <td>-2.990716</td>\n",
       "      <td>0.843467</td>\n",
       "    </tr>\n",
       "    <tr>\n",
       "      <th>2006-03-01 00:00:00+00:00</th>\n",
       "      <td>1.969780</td>\n",
       "      <td>0.778737</td>\n",
       "    </tr>\n",
       "    <tr>\n",
       "      <th>2006-04-01 00:00:00+00:00</th>\n",
       "      <td>12.098827</td>\n",
       "      <td>0.728625</td>\n",
       "    </tr>\n",
       "  </tbody>\n",
       "</table>\n",
       "</div>"
      ],
      "text/plain": [
       "                           Apparent Temperature (C)  Humidity\n",
       "Formatted Date                                               \n",
       "2005-12-01 00:00:00+00:00                 -4.050000  0.890000\n",
       "2006-01-01 00:00:00+00:00                 -4.173708  0.834610\n",
       "2006-02-01 00:00:00+00:00                 -2.990716  0.843467\n",
       "2006-03-01 00:00:00+00:00                  1.969780  0.778737\n",
       "2006-04-01 00:00:00+00:00                 12.098827  0.728625"
      ]
     },
     "execution_count": 54,
     "metadata": {},
     "output_type": "execute_result"
    }
   ],
   "source": [
    "month_mean = df[data_columns].resample('MS').mean()\n",
    "month_mean.head()"
   ]
  },
  {
   "cell_type": "code",
   "execution_count": 55,
   "metadata": {},
   "outputs": [],
   "source": [
    "import warnings"
   ]
  },
  {
   "cell_type": "code",
   "execution_count": 75,
   "metadata": {},
   "outputs": [
    {
     "data": {
      "image/png": "[encoded data removed]",
      "text/plain": [
       "<Figure size 1080x360 with 1 Axes>"
      ]
     },
     "metadata": {
      "needs_background": "light"
     },
     "output_type": "display_data"
    }
   ],
   "source": [
    "warnings.filterwarnings(\"ignore\")\n",
    "plt.figure(figsize=(15,5))\n",
    "plt.title(\"Changes in Apparent Temperature and Humidity with respect to time\")\n",
    "plt.xlabel(\"Formated Date\")\n",
    "plt.plot(month_mean,marker = 'o')\n",
    "plt.legend(['Apparent Temperature','Humidity'])\n",
    "plt.show()"
   ]
  },
  {
   "cell_type": "code",
   "execution_count": 78,
   "metadata": {},
   "outputs": [
    {
     "name": "stdout",
     "output_type": "stream",
     "text": [
      "                           Apparent Temperature (C)  Humidity\n",
      "Formatted Date                                               \n",
      "2006-02-01 00:00:00+00:00                 -2.990716  0.843467\n",
      "2007-02-01 00:00:00+00:00                  2.639848  0.815015\n",
      "2008-02-01 00:00:00+00:00                  1.915597  0.682615\n",
      "2009-02-01 00:00:00+00:00                 -1.641237  0.821161\n",
      "2010-02-01 00:00:00+00:00                 -1.662045  0.851682\n",
      "2011-02-01 00:00:00+00:00                 -2.849471  0.854137\n",
      "2012-02-01 00:00:00+00:00                 -8.817241  0.762859\n",
      "2013-02-01 00:00:00+00:00                  0.418171  0.869345\n",
      "2014-02-01 00:00:00+00:00                  2.742998  0.812530\n",
      "2015-02-01 00:00:00+00:00                  0.017006  0.803452\n",
      "2016-02-01 00:00:00+00:00                  4.150782  0.836853\n"
     ]
    },
    {
     "data": {
      "text/plain": [
       "Apparent Temperature (C)    float64\n",
       "Humidity                    float64\n",
       "dtype: object"
      ]
     },
     "execution_count": 78,
     "metadata": {},
     "output_type": "execute_result"
    }
   ],
   "source": [
    "df1 = month_mean[month_mean.index.month==2]\n",
    "print(df1)\n",
    "df1.dtypes"
   ]
  },
  {
   "cell_type": "code",
   "execution_count": 84,
   "metadata": {},
   "outputs": [
    {
     "data": {
      "text/plain": [
       "Text(0.5, 0, 'Month of February')"
      ]
     },
     "execution_count": 84,
     "metadata": {},
     "output_type": "execute_result"
    },
    {
     "data": {
      "image/png": "[encoded data removed]",
      "text/plain": [
       "<Figure size 1080x360 with 1 Axes>"
      ]
     },
     "metadata": {
      "needs_background": "light"
     },
     "output_type": "display_data"
    }
   ],
   "source": [
    "import matplotlib.dates as mdates\n",
    "fig, ax = plt.subplots(figsize=(15,5))\n",
    "ax.plot(df1.loc['2006-02-01':'2016-02-01', 'Apparent Temperature (C)'], marker='o', linestyle='-',label='Apparent Temperature (C)',color = 'black')\n",
    "ax.plot(df1.loc['2006-02-01':'2016-02-01', 'Humidity'], marker='o', linestyle='-',label='Humidity',color = 'red')\n",
    "ax.set_xticks(['02-01-2006','02-01-2007','02-01-2008','02-01-2009','02-01-2010','02-01-2011','02-01-2012','02-01-2013','02-01-2014','02-01-2015','02-01-2016'])\n",
    "ax.xaxis.set_major_formatter(mdates.DateFormatter('%d %m %Y'))\n",
    "ax.legend(loc = 'top left')\n",
    "ax.set_xlabel('Month of February')"
   ]
  },
  {
   "cell_type": "code",
   "execution_count": null,
   "metadata": {},
   "outputs": [],
   "source": []
  }
 ],
 "metadata": {
  "kernelspec": {
   "display_name": "Python 3",
   "language": "python",
   "name": "python3"
  },
  "language_info": {
   "codemirror_mode": {
    "name": "ipython",
    "version": 3
   },
   "file_extension": ".py",
   "mimetype": "text/x-python",
   "name": "python",
   "nbconvert_exporter": "python",
   "pygments_lexer": "ipython3",
   "version": "3.7.5rc1"
  }
 },
 "nbformat": 4,
 "nbformat_minor": 2
}
